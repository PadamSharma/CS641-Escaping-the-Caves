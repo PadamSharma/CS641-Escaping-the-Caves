{
  "nbformat": 4,
  "nbformat_minor": 0,
  "metadata": {
    "colab": {
      "name": "Copy of A5CryptoFinal.ipynb",
      "provenance": [],
      "collapsed_sections": []
    },
    "kernelspec": {
      "display_name": "Python 3",
      "name": "python3"
    },
    "language_info": {
      "name": "python"
    }
  },
  "cells": [
    {
      "cell_type": "code",
      "metadata": {
        "id": "BGABdLklXOJ1",
        "colab": {
          "base_uri": "https://localhost:8080/"
        },
        "outputId": "6a6b1ccf-4852-4ea4-8832-3158c0c48f71"
      },
      "source": [
        "!pip install BitVector\n",
        "!pip install paramiko\n",
        "!pip install pyfinite"
      ],
      "execution_count": 1,
      "outputs": [
        {
          "output_type": "stream",
          "text": [
            "Requirement already satisfied: BitVector in /usr/local/lib/python3.7/dist-packages (3.4.9)\n",
            "Requirement already satisfied: paramiko in /usr/local/lib/python3.7/dist-packages (2.7.2)\n",
            "Requirement already satisfied: pynacl>=1.0.1 in /usr/local/lib/python3.7/dist-packages (from paramiko) (1.4.0)\n",
            "Requirement already satisfied: cryptography>=2.5 in /usr/local/lib/python3.7/dist-packages (from paramiko) (3.4.7)\n",
            "Requirement already satisfied: bcrypt>=3.1.3 in /usr/local/lib/python3.7/dist-packages (from paramiko) (3.2.0)\n",
            "Requirement already satisfied: cffi>=1.4.1 in /usr/local/lib/python3.7/dist-packages (from pynacl>=1.0.1->paramiko) (1.14.5)\n",
            "Requirement already satisfied: six in /usr/local/lib/python3.7/dist-packages (from pynacl>=1.0.1->paramiko) (1.15.0)\n",
            "Requirement already satisfied: pycparser in /usr/local/lib/python3.7/dist-packages (from cffi>=1.4.1->pynacl>=1.0.1->paramiko) (2.20)\n",
            "Requirement already satisfied: pyfinite in /usr/local/lib/python3.7/dist-packages (1.7)\n",
            "Requirement already satisfied: msgpack-python in /usr/local/lib/python3.7/dist-packages (from pyfinite) (0.5.6)\n"
          ],
          "name": "stdout"
        }
      ]
    },
    {
      "cell_type": "code",
      "metadata": {
        "id": "qkALhdM91Mmw"
      },
      "source": [
        "from BitVector.BitVector import *\n",
        "import sys\n",
        "import requests\n",
        "import itertools\n",
        "from pyfinite import ffield\n",
        "from pyfinite import genericmatrix\n",
        "import re\n",
        "import paramiko\n",
        "from tqdm import tqdm\n"
      ],
      "execution_count": 2,
      "outputs": []
    },
    {
      "cell_type": "code",
      "metadata": {
        "id": "Zi54E0HE1NIp"
      },
      "source": [
        "# some variables and constants\n",
        "\n",
        "MOD             = BitVector(bitstring='10000011')\n",
        "EXPO            = 7\n",
        "twoPower        = []\n",
        "matrixA         = []\n",
        "vectorE         = []\n",
        "InverseOfI      = [0, 1, 64, 85, 32, 51, 106, 109, 16, 113, 89, 104, 53, 88, 118, 17, 8, 15, 120, 107, 108, 121, 52, 116, 90, 61, 44, 80, 59, 92, 72, 41, 4, 77, 71, 98, 60, 103, 117, 114, 54, 31, 124, 65, 26, 48, 58, 100, 45, 70, 94, 5, 22, 12, 40, 97, 93, 78, 46, 28, 36, 25, 84, 125, 2, 43, 102, 91, 99, 81, 49, 34, 30, 87, 115, 105, 122, 33, 57, 82, 27, 69, 79, 101, 62, 3, 96, 73, 13, 10, 24, 67, 29, 56, 50, 123, 86, 55, 35, 68, 47, 83, 66, 37, 11, 75, 6, 19, 20, 7, 112, 119, 110, 9, 39, 74, 23, 38, 14, 111, 18, 21, 76, 95, 42, 63, 126, 1]\n",
        "\n"
      ],
      "execution_count": 3,
      "outputs": []
    },
    {
      "cell_type": "code",
      "metadata": {
        "id": "JIKYdhhN1YmN"
      },
      "source": [
        "#string to bit vector\n",
        "def strToBitV(str):\n",
        "    bitV = []\n",
        "    for i in range(0, len(str), 2):\n",
        "        x1  = ord(str[i]) - ord('f')\n",
        "        x2 = ord(str[i+1]) - ord('f')\n",
        "        num = (x1 << 4) + x2\n",
        "        bitV.append(BitVector(intVal = num, size = EXPO))\n",
        "    return bitV\n",
        "\n",
        "\n",
        "#  list of numbers to string letter\n",
        "\n",
        "def listToStr(l):\n",
        "    stri = \"\"\n",
        "    for i in range(len(l)):\n",
        "        x2 = chr(ord('f') + (l[i] & 0b1111))\n",
        "        x1  = chr(ord('f') + ((l[i] & 0b1110000) >> 4))\n",
        "        stri = stri + x1 + x2\n",
        "    return stri\n",
        "\n",
        "\n",
        "# creating bit vector\n",
        "def bVector(num):\n",
        "    return BitVector(intVal = num, size = EXPO)\n",
        "\n",
        "\n",
        "# Calculate bitV to the power \n",
        "def expBitV(bitV, power):\n",
        "    if power == 0:\n",
        "        return bVector(1)\n",
        "    elif power == 1:\n",
        "        return bitV\n",
        "    elif power % 2 == 0:\n",
        "        half = expBitV(bitV, power >> 1)\n",
        "        return bitVMultiply(half, half)\n",
        "    else:\n",
        "        half = expBitV(bitV, power >> 1)\n",
        "        return bitVMultiply(bitVMultiply(half, half), bitV)\n"
      ],
      "execution_count": 4,
      "outputs": []
    },
    {
      "cell_type": "code",
      "metadata": {
        "id": "5uNefKnj1gAO"
      },
      "source": [
        "# connecting to server\n",
        "def SSH_Connect(Inputs):\n",
        "  Outputs = []\n",
        "  hostname = \"65.0.124.36\"\n",
        "  myuser = \"student\"\n",
        "  mySSHK = \"/content/ssh-keygen\"\n",
        "\n",
        "\n",
        "  sshcon = paramiko.SSHClient()\n",
        "  sshcon.set_missing_host_key_policy(paramiko.AutoAddPolicy())\n",
        "  sshcon.connect(hostname, username = myuser, key_filename = mySSHK)\n",
        "\n",
        "  channel = sshcon.invoke_shell()\n",
        "  stdin = channel.makefile('wb')\n",
        "  stdout = channel.makefile('rb')\n",
        "\n",
        "  stdin.write('''\n",
        "  GrepTribe\n",
        "  ''')\n",
        "\n",
        "  stdin.write('''\n",
        "  hello_bmro!\n",
        "  ''')\n",
        "\n",
        "  stdin.write('''\n",
        "  5\n",
        "  ''')\n",
        "\n",
        "  stdin.write('''\n",
        "  go\n",
        "  ''')\n",
        "\n",
        "  stdin.write('''\n",
        "  wave\n",
        "  ''')\n",
        "\n",
        "  stdin.write('''\n",
        "  dive\n",
        "  ''')\n",
        "\n",
        "  stdin.write('''\n",
        "  go\n",
        "  ''')\n",
        "\n",
        "  stdin.write('''\n",
        "  read\n",
        "  ''')\n",
        "  \n",
        "  flag = True\n",
        "  Outputs = []\n",
        "  (stdout.read(4510).decode().splitlines()[-5:])\n",
        "  \n",
        "  for inputs in tqdm(Inputs):\n",
        "    stdin.write(f'''\n",
        "    {inputs}\n",
        "    ''')\n",
        "    (stdout.read(63+28+5+len(inputs)).decode().splitlines())\n",
        "    Outputs.append(re.sub('\\s+', '', stdout.read(30+((len(inputs)-1)//16+1)*16).decode().splitlines()[1]))\n",
        "    stdin.write('''\n",
        "    c\n",
        "    ''')\n",
        "    (stdout.read(62).decode().splitlines())\n",
        "\n",
        "  stdin.close()\n",
        "  stdout.close()\n",
        "\n",
        "  return Outputs\n"
      ],
      "execution_count": 5,
      "outputs": []
    },
    {
      "cell_type": "code",
      "metadata": {
        "id": "4KqfczBF1ziB"
      },
      "source": [
        "#  multiply 2 bit vector\n",
        "\n",
        "def bitVMultiply(bitV1, bitV2):\n",
        "    return bitV1.gf_multiply_modular(bitV2, MOD, EXPO)\n",
        "\n",
        "# add 2 bit vector\n",
        "\n",
        "def bitVAdd(bitV1, bitV2):\n",
        "    summed_value = int(str(bitV1), 2) ^ int(str(bitV2), 2)\n",
        "    return bVector(summed_value)\n",
        "\n",
        "# output at required index for given keys and input\n",
        "def outputAtIndex(inp, outputIndex, A, E):\n",
        "    j = outputIndex\n",
        "    for t in range(8):\n",
        "        if inp[t] != 0:\n",
        "            i = t\n",
        "            value = bVector(inp[t])\n",
        "            break\n",
        "    sum = bVector(0)\n",
        "    for k in range(i,j+1):\n",
        "        sum = bitVAdd(sum, bitVMultiply(expBitV(value, E[i]*E[k]), bitVMultiply(A[j][k], expBitV(A[k][i], E[k]))))\n",
        "    return expBitV(sum, E[j]) \n",
        "\n",
        "# printing keys\n",
        "def printKeys():\n",
        "    for i in range(8):\n",
        "        for j in range(8):\n",
        "            print(\"%3d \" % (int(str(matrixA[i][j]),2)), end=\" \")\n",
        "        print(\"E: %3d \" % (vectorE[i]))\n",
        "    print(\" \")"
      ],
      "execution_count": 6,
      "outputs": []
    },
    {
      "cell_type": "code",
      "metadata": {
        "colab": {
          "base_uri": "https://localhost:8080/"
        },
        "id": "crK5FzWqWReW",
        "outputId": "7f031aa9-cc7d-4065-ee86-20b1a69a2256"
      },
      "source": [
        "# breaking cipher\n",
        "\n",
        "def break_cipher():\n",
        "    for i in range(128):\n",
        "        twoPower.append(expBitV(bVector(2), i*i*i)) # 2^(i*i*i)\n",
        "    for i in range(8):\n",
        "        vectorE.append(0)\n",
        "        matrixA.append([bVector(0)]*8)\n",
        "\n",
        "    e_a = [[] for i in range(8)]\n",
        "    for i in [7, 6, 5, 4, 3, 2, 1, 0]:\n",
        "        cipherOne   = strToBitV(\"\".join(SSH_Connect([listToStr([0]*i + [1] + [0]*(7-i))])))\n",
        "        cipherTwo   = strToBitV(\"\".join(SSH_Connect([listToStr([0]*i + [2] + [0]*(7-i))])))\n",
        "        # print(cipherOne)\n",
        "        #Get diagonal element\n",
        "        for m in range(128):\n",
        "            if bitVMultiply(cipherOne[i], twoPower[m]) == cipherTwo[i]:\n",
        "                # vectorE[i].append(m)\n",
        "                a_exponent = m*(m+1)\n",
        "                for n in range(128):\n",
        "                    if expBitV(bVector(n), a_exponent) == cipherOne[i]:\n",
        "                        # matrixA[i][i].append(bVector(n))\n",
        "                        e_a[i].append([m, bVector(n)])\n",
        "\n",
        "    ai_i1_list = []\n",
        "    for i in range(1,8):\n",
        "        cipherOne   = strToBitV(\"\".join(SSH_Connect([listToStr([0]*(i-1) + [1] + [0]*(8-i))])))\n",
        "        cipherTwo   = strToBitV(\"\".join(SSH_Connect([listToStr([0]*(i-1) + [2] + [0]*(8-i))])))\n",
        "        counter = 0\n",
        "        e_a_currPoss = []\n",
        "        e_a_prevPoss = []\n",
        "        flag = 0\n",
        "        for m in e_a[i]:\n",
        "            for n in e_a[i-1]:\n",
        "                e7  = m[0]\n",
        "                a77 = m[1]\n",
        "                e6  = n[0]\n",
        "                a66 = n[1]\n",
        "                a66_e6 = expBitV(a66, e6)\n",
        "                two_e6_e6 = expBitV(bVector(2), e6*e6)\n",
        "                two_e6_e7 = expBitV(bVector(2), e6*e7)\n",
        "                for t in range(128):\n",
        "                    a76 = bVector(t)\n",
        "                    if expBitV(bitVAdd(bitVMultiply(a76, a66_e6), bitVMultiply(a77, expBitV(a76, e7))), e7) == cipherOne[i] and expBitV(bitVAdd(bitVMultiply(bitVMultiply(two_e6_e6, a66_e6), a76), bitVMultiply(two_e6_e7, bitVMultiply(expBitV(a76, e7), a77))) ,e7) == cipherTwo[i]:\n",
        "                        if i == 7:\n",
        "                            ai_i1_list.append([a76, a77, e7])\n",
        "                        if m not in e_a_currPoss:\n",
        "                            e_a_currPoss.append(m)\n",
        "                        if n not in e_a_prevPoss:\n",
        "                            e_a_prevPoss.append(n)\n",
        "                        counter = counter + 1\n",
        "                        flag = 1\n",
        "                        matrixA[i][i-1] = a76\n",
        "            if flag == 1:\n",
        "                break\n",
        "        e_a[i] = e_a_currPoss\n",
        "        e_a[i-1] = e_a_prevPoss\n",
        "    for i in range(8):\n",
        "        matrixA[i][i] = e_a[i][0][1]\n",
        "        vectorE[i]    = e_a[i][0][0]\n",
        "    printKeys()\n",
        "\n",
        "    for p in range(2,8):\n",
        "        for k in range(p,8):\n",
        "            saved_values = []\n",
        "            cipherOne   = strToBitV(\"\".join(SSH_Connect([listToStr([0]*(k-p) + [1] + [0]*(7-k+p))])))\n",
        "            cipherTwo   = strToBitV(\"\".join(SSH_Connect([listToStr([0]*(k-p) + [2] + [0]*(7-k+p))])))\n",
        "            \n",
        "            for i in range(128):\n",
        "                matrixA[k][k-p] = bVector(i)\n",
        "                if outputAtIndex([0]*(k-p) + [1] + [0]*(7-k+p), k, matrixA, vectorE) == cipherOne[k] and outputAtIndex([0]*(k-p) + [2] + [0]*(7-k+p), k, matrixA, vectorE) == cipherTwo[k]:\n",
        "                    saved_values.append(i)\n",
        "            if(len(saved_values)>1):\n",
        "              print(\"For cell \" ,k,',',k-p,\"possible values are \", saved_values) \n",
        "            matrixA[k][k-p] = bVector(saved_values[0])\n",
        "        printKeys()\n",
        "\n",
        "break_cipher()"
      ],
      "execution_count": 7,
      "outputs": [
        {
          "output_type": "stream",
          "text": [
            "100%|██████████| 1/1 [00:00<00:00,  2.31it/s]\n",
            "100%|██████████| 1/1 [00:00<00:00,  2.37it/s]\n",
            "100%|██████████| 1/1 [00:00<00:00,  2.32it/s]\n",
            "100%|██████████| 1/1 [00:00<00:00,  2.36it/s]\n",
            "100%|██████████| 1/1 [00:00<00:00,  2.29it/s]\n",
            "100%|██████████| 1/1 [00:00<00:00,  2.34it/s]\n",
            "100%|██████████| 1/1 [00:00<00:00,  2.37it/s]\n",
            "100%|██████████| 1/1 [00:00<00:00,  2.33it/s]\n",
            "100%|██████████| 1/1 [00:00<00:00,  2.40it/s]\n",
            "100%|██████████| 1/1 [00:00<00:00,  2.31it/s]\n",
            "100%|██████████| 1/1 [00:00<00:00,  2.31it/s]\n",
            "100%|██████████| 1/1 [00:00<00:00,  2.36it/s]\n",
            "100%|██████████| 1/1 [00:00<00:00,  2.30it/s]\n",
            "100%|██████████| 1/1 [00:00<00:00,  2.35it/s]\n",
            "100%|██████████| 1/1 [00:00<00:00,  2.37it/s]\n",
            "100%|██████████| 1/1 [00:00<00:00,  2.37it/s]\n",
            "100%|██████████| 1/1 [00:00<00:00,  2.26it/s]\n",
            "100%|██████████| 1/1 [00:00<00:00,  2.39it/s]\n",
            "100%|██████████| 1/1 [00:00<00:00,  2.38it/s]\n",
            "100%|██████████| 1/1 [00:00<00:00,  2.27it/s]\n",
            "100%|██████████| 1/1 [00:00<00:00,  2.38it/s]\n",
            "100%|██████████| 1/1 [00:00<00:00,  2.38it/s]\n",
            "100%|██████████| 1/1 [00:00<00:00,  2.33it/s]\n",
            "100%|██████████| 1/1 [00:00<00:00,  2.34it/s]\n",
            "100%|██████████| 1/1 [00:00<00:00,  2.32it/s]\n",
            "100%|██████████| 1/1 [00:00<00:00,  2.35it/s]\n",
            "100%|██████████| 1/1 [00:00<00:00,  2.32it/s]\n",
            "100%|██████████| 1/1 [00:00<00:00,  2.39it/s]\n",
            "100%|██████████| 1/1 [00:00<00:00,  2.33it/s]\n",
            "100%|██████████| 1/1 [00:00<00:00,  2.31it/s]\n"
          ],
          "name": "stderr"
        },
        {
          "output_type": "stream",
          "text": [
            " 84    0    0    0    0    0    0    0  E:  24 \n",
            "118   70    0    0    0    0    0    0  E: 105 \n",
            "  0   27   43    0    0    0    0    0  E:  43 \n",
            "  0    0    6   12    0    0    0    0  E:  81 \n",
            "  0    0    0  112  112    0    0    0  E:  91 \n",
            "  0    0    0    0   99   11    0    0  E:  46 \n",
            "  0    0    0    0    0   95   27    0  E:  21 \n",
            "  0    0    0    0    0    0    5   38  E:  24 \n",
            " \n"
          ],
          "name": "stdout"
        },
        {
          "output_type": "stream",
          "text": [
            "100%|██████████| 1/1 [00:00<00:00,  2.36it/s]\n",
            "100%|██████████| 1/1 [00:00<00:00,  2.36it/s]\n",
            "100%|██████████| 1/1 [00:00<00:00,  2.38it/s]\n",
            "100%|██████████| 1/1 [00:00<00:00,  2.34it/s]\n",
            "100%|██████████| 1/1 [00:00<00:00,  2.39it/s]\n",
            "100%|██████████| 1/1 [00:00<00:00,  2.32it/s]\n",
            "100%|██████████| 1/1 [00:00<00:00,  2.34it/s]\n",
            "100%|██████████| 1/1 [00:00<00:00,  2.33it/s]\n",
            "100%|██████████| 1/1 [00:00<00:00,  2.33it/s]\n",
            "100%|██████████| 1/1 [00:00<00:00,  2.29it/s]\n",
            "100%|██████████| 1/1 [00:00<00:00,  2.33it/s]\n",
            "100%|██████████| 1/1 [00:00<00:00,  2.30it/s]\n"
          ],
          "name": "stderr"
        },
        {
          "output_type": "stream",
          "text": [
            " 84    0    0    0    0    0    0    0  E:  24 \n",
            "118   70    0    0    0    0    0    0  E: 105 \n",
            " 27   27   43    0    0    0    0    0  E:  43 \n",
            "  0   23    6   12    0    0    0    0  E:  81 \n",
            "  0    0    2  112  112    0    0    0  E:  91 \n",
            "  0    0    0   41   99   11    0    0  E:  46 \n",
            "  0    0    0    0    5   95   27    0  E:  21 \n",
            "  0    0    0    0    0   66    5   38  E:  24 \n",
            " \n"
          ],
          "name": "stdout"
        },
        {
          "output_type": "stream",
          "text": [
            "100%|██████████| 1/1 [00:00<00:00,  2.39it/s]\n",
            "100%|██████████| 1/1 [00:00<00:00,  2.32it/s]\n",
            "100%|██████████| 1/1 [00:00<00:00,  2.30it/s]\n",
            "100%|██████████| 1/1 [00:00<00:00,  2.30it/s]\n",
            "100%|██████████| 1/1 [00:00<00:00,  2.35it/s]\n",
            "100%|██████████| 1/1 [00:00<00:00,  2.38it/s]\n",
            "100%|██████████| 1/1 [00:00<00:00,  2.34it/s]\n",
            "100%|██████████| 1/1 [00:00<00:00,  2.29it/s]\n",
            "100%|██████████| 1/1 [00:00<00:00,  2.39it/s]\n",
            "100%|██████████| 1/1 [00:00<00:00,  2.36it/s]\n"
          ],
          "name": "stderr"
        },
        {
          "output_type": "stream",
          "text": [
            " 84    0    0    0    0    0    0    0  E:  24 \n",
            "118   70    0    0    0    0    0    0  E: 105 \n",
            " 27   27   43    0    0    0    0    0  E:  43 \n",
            "122   23    6   12    0    0    0    0  E:  81 \n",
            "  0   60    2  112  112    0    0    0  E:  91 \n",
            "  0    0   19   41   99   11    0    0  E:  46 \n",
            "  0    0    0   98    5   95   27    0  E:  21 \n",
            "  0    0    0    0   18   66    5   38  E:  24 \n",
            " \n"
          ],
          "name": "stdout"
        },
        {
          "output_type": "stream",
          "text": [
            "100%|██████████| 1/1 [00:00<00:00,  2.37it/s]\n",
            "100%|██████████| 1/1 [00:00<00:00,  2.38it/s]\n",
            "100%|██████████| 1/1 [00:00<00:00,  2.31it/s]\n",
            "100%|██████████| 1/1 [00:00<00:00,  2.37it/s]\n",
            "100%|██████████| 1/1 [00:00<00:00,  2.37it/s]\n",
            "100%|██████████| 1/1 [00:00<00:00,  2.30it/s]\n",
            "100%|██████████| 1/1 [00:00<00:00,  2.35it/s]\n",
            "100%|██████████| 1/1 [00:00<00:00,  2.38it/s]\n"
          ],
          "name": "stderr"
        },
        {
          "output_type": "stream",
          "text": [
            " 84    0    0    0    0    0    0    0  E:  24 \n",
            "118   70    0    0    0    0    0    0  E: 105 \n",
            " 27   27   43    0    0    0    0    0  E:  43 \n",
            "122   23    6   12    0    0    0    0  E:  81 \n",
            " 96   60    2  112  112    0    0    0  E:  91 \n",
            "  0   41   19   41   99   11    0    0  E:  46 \n",
            "  0    0    1   98    5   95   27    0  E:  21 \n",
            "  0    0    0   24   18   66    5   38  E:  24 \n",
            " \n"
          ],
          "name": "stdout"
        },
        {
          "output_type": "stream",
          "text": [
            "100%|██████████| 1/1 [00:00<00:00,  2.37it/s]\n",
            "100%|██████████| 1/1 [00:00<00:00,  2.38it/s]\n",
            "100%|██████████| 1/1 [00:00<00:00,  2.35it/s]\n",
            "100%|██████████| 1/1 [00:00<00:00,  2.38it/s]\n",
            "100%|██████████| 1/1 [00:00<00:00,  2.40it/s]\n",
            "100%|██████████| 1/1 [00:00<00:00,  2.37it/s]\n"
          ],
          "name": "stderr"
        },
        {
          "output_type": "stream",
          "text": [
            " 84    0    0    0    0    0    0    0  E:  24 \n",
            "118   70    0    0    0    0    0    0  E: 105 \n",
            " 27   27   43    0    0    0    0    0  E:  43 \n",
            "122   23    6   12    0    0    0    0  E:  81 \n",
            " 96   60    2  112  112    0    0    0  E:  91 \n",
            " 25   41   19   41   99   11    0    0  E:  46 \n",
            "  0  125    1   98    5   95   27    0  E:  21 \n",
            "  0    0   72   24   18   66    5   38  E:  24 \n",
            " \n"
          ],
          "name": "stdout"
        },
        {
          "output_type": "stream",
          "text": [
            "100%|██████████| 1/1 [00:00<00:00,  2.31it/s]\n",
            "100%|██████████| 1/1 [00:00<00:00,  2.40it/s]\n",
            "100%|██████████| 1/1 [00:00<00:00,  2.37it/s]\n",
            "100%|██████████| 1/1 [00:00<00:00,  2.37it/s]\n"
          ],
          "name": "stderr"
        },
        {
          "output_type": "stream",
          "text": [
            " 84    0    0    0    0    0    0    0  E:  24 \n",
            "118   70    0    0    0    0    0    0  E: 105 \n",
            " 27   27   43    0    0    0    0    0  E:  43 \n",
            "122   23    6   12    0    0    0    0  E:  81 \n",
            " 96   60    2  112  112    0    0    0  E:  91 \n",
            " 25   41   19   41   99   11    0    0  E:  46 \n",
            " 22  125    1   98    5   95   27    0  E:  21 \n",
            "  0   12   72   24   18   66    5   38  E:  24 \n",
            " \n"
          ],
          "name": "stdout"
        },
        {
          "output_type": "stream",
          "text": [
            "100%|██████████| 1/1 [00:00<00:00,  2.29it/s]\n",
            "100%|██████████| 1/1 [00:00<00:00,  2.36it/s]\n"
          ],
          "name": "stderr"
        },
        {
          "output_type": "stream",
          "text": [
            "For cell  7 , 0 possible values are  [56, 70, 82]\n",
            " 84    0    0    0    0    0    0    0  E:  24 \n",
            "118   70    0    0    0    0    0    0  E: 105 \n",
            " 27   27   43    0    0    0    0    0  E:  43 \n",
            "122   23    6   12    0    0    0    0  E:  81 \n",
            " 96   60    2  112  112    0    0    0  E:  91 \n",
            " 25   41   19   41   99   11    0    0  E:  46 \n",
            " 22  125    1   98    5   95   27    0  E:  21 \n",
            " 56   12   72   24   18   66    5   38  E:  24 \n",
            " \n"
          ],
          "name": "stdout"
        }
      ]
    },
    {
      "cell_type": "code",
      "metadata": {
        "id": "Ccov0y6y2LVS"
      },
      "source": [
        "# finding inverse of A\n",
        "def invertA():\n",
        "    A_Inverse = []\n",
        "    field = ffield.FField(7,gen=0x83)\n",
        "    matrix = genericmatrix.GenericMatrix(size=(8,8), zeroElement=0, identityElement=1, add=field.Add, mul=field.Multiply, sub=field.Subtract, div=field.Divide)\n",
        "    matrix.SetRow(0,[int(str(i), 2) for i in matrixA[0]])\n",
        "    matrix.SetRow(1,[int(str(i), 2) for i in matrixA[1]])\n",
        "    matrix.SetRow(2,[int(str(i), 2) for i in matrixA[2]])\n",
        "    matrix.SetRow(3,[int(str(i), 2) for i in matrixA[3]])\n",
        "    matrix.SetRow(4,[int(str(i), 2) for i in matrixA[4]])\n",
        "    matrix.SetRow(5,[int(str(i), 2) for i in matrixA[5]])\n",
        "    matrix.SetRow(6,[int(str(i), 2) for i in matrixA[6]])\n",
        "    matrix.SetRow(7,[int(str(i), 2) for i in matrixA[7]])\n",
        "    inverse = matrix.Inverse()\n",
        "    for rownum in range(8):\n",
        "        row = [bVector(i) for i in inverse.GetRow(rownum)]\n",
        "        A_Inverse.append(row)\n",
        "    return A_Inverse\n",
        "\n",
        "#finding output of inverse E\n",
        "def invertE(vec):\n",
        "    result = []\n",
        "    for i in range(8):\n",
        "        v = vec[i]\n",
        "        e = vectorE[i]\n",
        "        inv =  InverseOfI[e]\n",
        "        result.append(expBitV(v, inv))\n",
        "    return result\n",
        "\n",
        "#finding output of inverse A\n",
        "def OutputInverseA(vec):\n",
        "    result = []\n",
        "    for i in range(8):\n",
        "        sum = bVector(0)\n",
        "        for j in range(8):\n",
        "            sum = bitVAdd(sum, bitVMultiply(A_Inverse[i][j], vec[j]))\n",
        "        result.append(sum)\n",
        "    return result\n",
        "\n",
        "# decrypt output to find  input\n",
        "def decrypt(string):\n",
        "    vec = strToBitV(string)\n",
        "    vec = invertE(vec)\n",
        "    vec = OutputInverseA(vec)\n",
        "    vec = invertE(vec)\n",
        "    vec = OutputInverseA(vec)\n",
        "    vec = invertE(vec)\n",
        "    return [int(str(i), 2) for i in vec]"
      ],
      "execution_count": 8,
      "outputs": []
    },
    {
      "cell_type": "code",
      "metadata": {
        "id": "1PT1mFDMbrxz",
        "colab": {
          "base_uri": "https://localhost:8080/"
        },
        "outputId": "baad0c69-b124-4a95-d471-7c7ad76c90c6"
      },
      "source": [
        "# finding passwords\n",
        "coded_password = \"jghrlglshrhkhqmggrjkiihqgsgmjriq\"\n",
        "possiblePassword = []\n",
        "p1 = coded_password[:16]\n",
        "p2 = coded_password[16:] \n",
        "for val in [56, 70, 82]:\n",
        "  matrixA[7][0] = bVector(val)\n",
        "  A_Inverse = invertA()\n",
        "  passwordAscii = decrypt(p1)+decrypt(p2)\n",
        "  password = \"\"\n",
        "  for i in passwordAscii:\n",
        "      password = password + chr(i)\n",
        "  possiblePassword.append(password)\n",
        "  printKeys()\n",
        "  print(password)\n",
        "print(\"possible passwords are : \", possiblePassword)\n",
        "print(\"After trying all three password we get the real password i.e. :- \",'xjtwcsnucg')"
      ],
      "execution_count": 9,
      "outputs": [
        {
          "output_type": "stream",
          "text": [
            " 84    0    0    0    0    0    0    0  E:  24 \n",
            "118   70    0    0    0    0    0    0  E: 105 \n",
            " 27   27   43    0    0    0    0    0  E:  43 \n",
            "122   23    6   12    0    0    0    0  E:  81 \n",
            " 96   60    2  112  112    0    0    0  E:  91 \n",
            " 25   41   19   41   99   11    0    0  E:  46 \n",
            " 22  125    1   98    5   95   27    0  E:  21 \n",
            " 56   12   72   24   18   66    5   38  E:  24 \n",
            " \n",
            "xjtwcsn\u0017cg00000f\n",
            " 84    0    0    0    0    0    0    0  E:  24 \n",
            "118   70    0    0    0    0    0    0  E: 105 \n",
            " 27   27   43    0    0    0    0    0  E:  43 \n",
            "122   23    6   12    0    0    0    0  E:  81 \n",
            " 96   60    2  112  112    0    0    0  E:  91 \n",
            " 25   41   19   41   99   11    0    0  E:  46 \n",
            " 22  125    1   98    5   95   27    0  E:  21 \n",
            " 70   12   72   24   18   66    5   38  E:  24 \n",
            " \n",
            "xjtwcsnucg000000\n",
            " 84    0    0    0    0    0    0    0  E:  24 \n",
            "118   70    0    0    0    0    0    0  E: 105 \n",
            " 27   27   43    0    0    0    0    0  E:  43 \n",
            "122   23    6   12    0    0    0    0  E:  81 \n",
            " 96   60    2  112  112    0    0    0  E:  91 \n",
            " 25   41   19   41   99   11    0    0  E:  46 \n",
            " 22  125    1   98    5   95   27    0  E:  21 \n",
            " 82   12   72   24   18   66    5   38  E:  24 \n",
            " \n",
            "xjtwcsn6cg00000?\n",
            "possible passwords are :  ['xjtwcsn\\x17cg00000f', 'xjtwcsnucg000000', 'xjtwcsn6cg00000?']\n",
            "After trying all three password we get the real password i.e. :-  xjtwcsnucg\n"
          ],
          "name": "stdout"
        }
      ]
    }
  ]
}