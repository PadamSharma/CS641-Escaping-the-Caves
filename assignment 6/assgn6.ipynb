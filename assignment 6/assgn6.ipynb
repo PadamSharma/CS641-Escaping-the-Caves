{
 "cells": [
  {
   "cell_type": "code",
   "execution_count": 1,
   "metadata": {
    "collapsed": false
   },
   "outputs": [
   ],
   "source": [
    "hex_string = '''\n",
    "                59 6f 75 20 73 65 65 20\n",
    "                61 20 47 6f 6c 64 2d 42\n",
    "                75 67 20 69 6e 20 6f 6e\n",
    "                65 20 63 6f 72 6e 65 72\n",
    "                2e 20 49 74 20 69 73 20\n",
    "                74 68 65 20 6b 65 79 20\n",
    "                74 6f 20 61 20 74 72 65\n",
    "                61 73 75 72 65 20 66 6f\n",
    "                75 6e 64 20 62 79\n",
    "\n",
    "             '''"
   ]
  },
  {
   "cell_type": "code",
   "execution_count": 2,
   "metadata": {
    "collapsed": false
   },
   "outputs": [
    {
     "data": {
      "text/plain": [
       "'You see a Gold-Bug in one corner. It is the key to a treasure found by '"
      ]
     },
     "execution_count": 2,
     "metadata": {
     },
     "output_type": "execute_result"
    }
   ],
   "source": [
    "bytes_object = bytes.fromhex(hex_string)\n",
    "message = bytes_object.decode(\"ASCII\")\n",
    "message = message + \" \"\n",
    "message"
   ]
  },
  {
   "cell_type": "code",
   "execution_count": 3,
   "metadata": {
    "collapsed": false
   },
   "outputs": [
   ],
   "source": [
    "def str_to_binary(message):\n",
    "    return ''.join(['{0:08b}'.format(ord(x)) for x in message])"
   ]
  },
  {
   "cell_type": "code",
   "execution_count": 4,
   "metadata": {
    "collapsed": false
   },
   "outputs": [
   ],
   "source": [
    "def solve(pol, modulus, beta, mm, tt, XX):\n",
    "    \n",
    "    dd = pol.degree()\n",
    "    nn = dd * mm + tt\n",
    "\n",
    "    polZ = pol.change_ring(ZZ)\n",
    "    x = polZ.parent().gen()\n",
    "\n",
    "    # compute polynomials\n",
    "    gg = []\n",
    "    for ii in range(mm):\n",
    "        for jj in range(dd):\n",
    "            gg.append((x * XX)**jj * modulus**(mm - ii) * polZ(x * XX)**ii)\n",
    "    for ii in range(tt):\n",
    "        gg.append((x * XX)**ii * polZ(x * XX)**mm)\n",
    "\n",
    "    # construct lattice B\n",
    "    BB = Matrix(ZZ, nn)\n",
    "\n",
    "    for ii in range(nn):\n",
    "        for jj in range(ii+1):\n",
    "            BB[ii, jj] = gg[ii][jj]\n",
    "\n",
    "    # LLL\n",
    "    BB = BB.LLL()\n",
    "\n",
    "    # transform shortest vector in polynomial\n",
    "    new_pol = 0\n",
    "    for ii in range(nn):\n",
    "        new_pol += x**ii * BB[0, ii] / XX**ii\n",
    "\n",
    "    # factor polynomial\n",
    "    potential_roots = new_pol.roots()\n",
    "    \n",
    "    # test roots\n",
    "    roots = []\n",
    "    for root in potential_roots:\n",
    "        if root[0].is_integer():\n",
    "            result = polZ(ZZ(root[0]))\n",
    "            if gcd(modulus, result) >= modulus^beta:\n",
    "                roots.append(ZZ(root[0]))\n",
    "                \n",
    "    return roots"
   ]
  },
  {
   "cell_type": "code",
   "execution_count": 5,
   "metadata": {
    "collapsed": false
   },
   "outputs": [
   ],
   "source": [
    "e = 5\n",
    "\n",
    "N = 84364443735725034864402554533826279174703893439763343343863260342756678609216895093779263028809246505955647572176682669445270008816481771701417554768871285020442403001649254405058303439906229201909599348669565697534331652019516409514800265887388539283381053937433496994442146419682027649079704982600857517093\n",
    "\n",
    "C = 23701787746829110396789094907319830305538180376427283226295906585301889543996533410539381779684366880970896279018807100530176651625086988655210858554133345906272561027798171440923147960165094891980452757852685707020289384698322665347609905744582248157246932007978339129630067022987966706955482598869800151693\n",
    "\n",
    "# RSA known parameters\n",
    "ZmodN = Zmod(N);"
   ]
  },
  {
   "cell_type": "code",
   "execution_count": 6,
   "metadata": {
    "collapsed": false
   },
   "outputs": [
   ],
   "source": [
    "def decrypt_message(message, max_length_M):\n",
    "\n",
    "    binary_string = str_to_binary(message)\n",
    "    \n",
    "    for length_M in range(0, max_length_M + 1, 4):          # size of the root\n",
    "\n",
    "        # Problem to equation (default)\n",
    "        P.<M> = PolynomialRing((ZmodN) , implementation = 'NTL')\n",
    "        pol = ((int(binary_string, 2) << length_M) + M)^e - C\n",
    "        dd = pol.degree()\n",
    "\n",
    "        # Tweak those\n",
    "        beta = 1\n",
    "        epsilon = beta / 7\n",
    "        mm = ceil(beta**2 / (dd * epsilon))\n",
    "        tt = floor(dd * mm * ((1 / beta) - 1))\n",
    "        XX = ceil(N**((beta**2 / dd) - epsilon))\n",
    "\n",
    "        roots = solve(pol, N, beta, mm, tt, XX)\n",
    "        \n",
    "        if roots:\n",
    "            x = ' {0:b}'.format(roots[0])\n",
    "            x = \"0\" * (8 - (len(x) % 8)) + x\n",
    "            for i in range(0, len(x), 8):\n",
    "                print(chr(int(x[i : i + 8], 2)), end=\"\")\n",
    "\n",
    "            return\n",
    "        \n",
    "    print('No solution found\\n')"
   ]
  },
  {
   "cell_type": "code",
   "execution_count": 7,
   "metadata": {
    "collapsed": false
   },
   "outputs": [
    {
     "name": "stdout",
     "output_type": "stream",
     "text": [
      "\u0000B@hubAl!"
     ]
    }
   ],
   "source": [
    "decrypt_message(message, 300)"
   ]
  }
 ],
 "metadata": {
  "kernelspec": {
   "display_name": "SageMath 9.2",
   "language": "sagemath",
   "metadata": {
    "cocalc": {
     "description": "Open-source mathematical software system",
     "priority": 10,
     "url": "https://www.sagemath.org/"
    }
   },
   "name": "sage-9.2",
   "resource_dir": "/ext/jupyter/kernels/sage-9.2"
  },
  "language_info": {
   "codemirror_mode": {
    "name": "ipython",
    "version": 3
   },
   "file_extension": ".py",
   "mimetype": "text/x-python",
   "name": "python",
   "nbconvert_exporter": "python",
   "pygments_lexer": "ipython3",
   "version": "3.8.5"
  }
 },
 "nbformat": 4,
 "nbformat_minor": 4
}