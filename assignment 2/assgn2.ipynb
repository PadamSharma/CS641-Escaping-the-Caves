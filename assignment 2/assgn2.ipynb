{
  "nbformat": 4,
  "nbformat_minor": 0,
  "metadata": {
    "colab": {
      "name": "CS641-Assignment-2.ipynb",
      "provenance": [],
      "collapsed_sections": []
    },
    "kernelspec": {
      "name": "python3",
      "display_name": "Python 3"
    }
  },
  "cells": [
    {
      "cell_type": "markdown",
      "metadata": {
        "id": "OqA-dXsjXswo"
      },
      "source": [
        "## PlayFair Algorithm"
      ]
    },
    {
      "cell_type": "code",
      "metadata": {
        "id": "nhzmaGv4P-wd"
      },
      "source": [
        "class PlayFair(object):\r\n",
        "  \r\n",
        "  def __init__(self, key, ciphertext):\r\n",
        "    self.key = key\r\n",
        "    self.ciphertext = ciphertext\r\n",
        "    self.key_square = self.keySquare()\r\n",
        "    self.bigrams = self.digraphs()\r\n",
        "    self.decrypted = self.decryption()\r\n",
        "    self.plaintext = self.plainText()\r\n",
        "\r\n",
        "  def keySquare(self):\r\n",
        "    '''\r\n",
        "        returns key-square 5 X 5 matrix\r\n",
        "    '''\r\n",
        "    key_square = []\r\n",
        "    count = 0\r\n",
        "    temp = []\r\n",
        "    for letter in self.key:\r\n",
        "      temp.append(letter)\r\n",
        "      count += 1\r\n",
        "      if count == 5:\r\n",
        "        key_square.append(temp)\r\n",
        "        count = 0\r\n",
        "        temp = []\r\n",
        "    for i in range(65, 91):\r\n",
        "      if chr(i) not in key and chr(i) != 'J':\r\n",
        "        temp.append(chr(i))\r\n",
        "        count += 1\r\n",
        "      if count == 5:\r\n",
        "        key_square.append(temp)\r\n",
        "        count = 0\r\n",
        "        temp = []\r\n",
        "    \r\n",
        "    return key_square\r\n",
        "\r\n",
        "  def digraphs(self):\r\n",
        "    '''\r\n",
        "        return list of bigraphs by splitting cipher text\r\n",
        "    '''\r\n",
        "    bigram = []\r\n",
        "    temp = []\r\n",
        "    count = 0\r\n",
        "\r\n",
        "    for letter in self.ciphertext:\r\n",
        "      if ord(letter) >= 65 and ord(letter) <= 90:\r\n",
        "        temp.append(letter)\r\n",
        "        count += 1\r\n",
        "        if count == 2:\r\n",
        "          bigram.append(temp)\r\n",
        "          count = 0\r\n",
        "          temp = []\r\n",
        "    \r\n",
        "    return bigram\r\n",
        "\r\n",
        "  def position(self, element):\r\n",
        "    '''\r\n",
        "        returns position of the element in the key_square matrix\r\n",
        "        if element is not present returns (-1, -1)\r\n",
        "    '''\r\n",
        "    for i in range(len(self.key_square)):\r\n",
        "      for j in range(len(self.key_square[0])):\r\n",
        "        if element == self.key_square[i][j]:\r\n",
        "          return (i, j)\r\n",
        "    return (-1, -1)\r\n",
        "  \r\n",
        "  def decryption(self):\r\n",
        "    '''\r\n",
        "        returns a list of decrypted letters \r\n",
        "    '''\r\n",
        "    decrypted = []\r\n",
        "    for digraphs in self.bigrams:\r\n",
        "      x_1, y_1 = self.position(digraphs[0])\r\n",
        "      x_2, y_2 = self.position(digraphs[1])\r\n",
        "      if x_1 == -1 or x_2 == -1:\r\n",
        "        break\r\n",
        "      if y_1 == y_2:\r\n",
        "        if x_1 > 0:\r\n",
        "          first_element = self.key_square[x_1 - 1][y_1]\r\n",
        "        else:\r\n",
        "          first_element = self.key_square[4][y_1]\r\n",
        "        if x_2 > 0:\r\n",
        "          sec_element = self.key_square[x_2 - 1][y_2]\r\n",
        "        else:\r\n",
        "          sec_element = self.key_square[4][y_2]\r\n",
        "      elif x_1 == x_2:\r\n",
        "        if y_1 > 0:\r\n",
        "          first_element = self.key_square[x_1][y_1 - 1]\r\n",
        "        else:\r\n",
        "          first_element = self.key_square[x_1][4]\r\n",
        "        if y_2 > 0:\r\n",
        "          sec_element = self.key_square[x_2][y_2 - 1]\r\n",
        "        else:\r\n",
        "          sec_element = self.key_square[x_2][4]\r\n",
        "      else:\r\n",
        "        first_element = self.key_square[x_1][y_2]\r\n",
        "        sec_element = self.key_square[x_2][y_1]\r\n",
        "      decrypted.extend([first_element, sec_element])\r\n",
        "    \r\n",
        "    return decrypted\r\n",
        "\r\n",
        "  def plainText(self):\r\n",
        "    '''\r\n",
        "        returns a string of decrypted text\r\n",
        "    '''\r\n",
        "    decrypted_text = \"\"\r\n",
        "    count = 0\r\n",
        "    for letter in self.ciphertext:\r\n",
        "      if ord(letter) >= 65 and ord(letter) <= 90:\r\n",
        "        decrypted_text += self.decrypted[count]\r\n",
        "        count += 1\r\n",
        "      else:\r\n",
        "        decrypted_text += letter\r\n",
        "   \r\n",
        "    return decrypted_text\r\n",
        "  \r\n",
        "  def __str__(self):\r\n",
        "    return self.plaintext"
      ],
      "execution_count": 1,
      "outputs": []
    },
    {
      "cell_type": "code",
      "metadata": {
        "colab": {
          "base_uri": "https://localhost:8080/"
        },
        "id": "uOSNs4ROUcSZ",
        "outputId": "f549163d-e234-4754-ee41-812e42d83aca"
      },
      "source": [
        "String = '''TR XYCB MH AFC MUVY EOHPTCS, AFCSS TE QCSI NTYIMS TNA AFCSC.\r\n",
        "            EMRBH XAA VAFR MIUCQPUH \"LMRL_CCETOT\" FN HM AKUXAHK.\r\n",
        "            OTA WANA OTXT FFU EISCWNAF HME BFU MCVA UGTOTRE.\r\n",
        "            BM HYLF IFU UVTY ANE HBSEI QYOQM OUVSF AM EAFTE PYHYS XNSKE IFUSC.'''\r\n",
        "\r\n",
        "# Decrypted morse code to get the key\r\n",
        "key = \"SECURITY\"\r\n",
        "\r\n",
        "decrypted_text = PlayFair(key, String)\r\n",
        "print(decrypted_text)"
      ],
      "execution_count": 2,
      "outputs": [
        {
          "output_type": "stream",
          "text": [
            "BE WARY OF THE NEXT CHAMBER, THERE IS VERY LITTLE IOY THERE.\n",
            "            SPEAK OUT XTHE PASSWORD \"OPEN_SESAME\" TO GO THROUGH.\n",
            "            MAY XYOU HAVE THE STRENGTH FOR THE NEXT CHAMBER.\n",
            "            TO FIND THE EXIT YOU FIRST WILXL NEXED TO UTTER MAGIC WORDS THERE.\n"
          ],
          "name": "stdout"
        }
      ]
    },
    {
      "cell_type": "code",
      "metadata": {
        "id": "NwQQcLQx4ihb"
      },
      "source": [
        "corrected = '''BE WARY OF THE NEXT CHAMBER, THERE IS VERY LITTLE JOY THERE.\r\n",
        "            SPEAK OUT THE PASSWORD \"OPEN_SESAME\" TO GO THROUGH.\r\n",
        "            MAY YOU HAVE THE STRENGTH FOR THE NEXT CHAMBER.\r\n",
        "            TO FIND THE EXIT YOU FIRST WILL NEED TO UTTER MAGIC WORDS THERE.'''"
      ],
      "execution_count": 3,
      "outputs": []
    }
  ]
}