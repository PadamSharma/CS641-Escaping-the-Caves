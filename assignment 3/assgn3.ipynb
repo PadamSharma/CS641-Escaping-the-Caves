{
  "nbformat": 4,
  "nbformat_minor": 0,
  "metadata": {
    "colab": {
      "name": "CryptoA3.ipynb",
      "provenance": []
    },
    "kernelspec": {
      "name": "python3",
      "display_name": "Python 3"
    }
  },
  "cells": [
    {
      "cell_type": "code",
      "metadata": {
        "colab": {
          "base_uri": "https://localhost:8080/"
        },
        "id": "5aTDe8xD4Rjm",
        "outputId": "9d4af9ca-5d07-4b23-a88e-a565f2b0ba58"
      },
      "source": [
        "a = [324,2345,9513]\r\n",
        "n = [11226815350263531814963336315, 9190548667900274300830391220, 4138652629655613570819000497]\r\n",
        "x = [0,0,0]\r\n",
        "p = 19807040628566084398385987581\r\n",
        "for i in range(-1000,1000,1):\r\n",
        "  temp = (1-(a[1]-a[0])*i) % (a[2]-a[0])\r\n",
        "  if(temp==0):\r\n",
        "    x[1] = i       \r\n",
        "    break\r\n",
        "if(x[1]==0): print('notFound')\r\n",
        "\r\n",
        "x[2] = int((1-(a[1]-a[0])*x[1])/(a[2]-a[0]))\r\n",
        "\r\n",
        "x[0] = int(-x[2]-x[1])\r\n",
        "\r\n",
        "print(x)\r\n"
      ],
      "execution_count": 1,
      "outputs": [
        {
          "output_type": "stream",
          "text": [
            "[-493, 632, -139]\n"
          ],
          "name": "stdout"
        }
      ]
    },
    {
      "cell_type": "code",
      "metadata": {
        "id": "FxJukFYN9Rkr"
      },
      "source": [
        "## function to calculate a**b mod p\r\n",
        "def power(a, b, p):\r\n",
        "  if(b==0): return 1\r\n",
        "\r\n",
        "  temp = power(a,b//2,p) \r\n",
        "  temp = (temp*temp)%p\r\n",
        "\r\n",
        "  if(b%2==0):\r\n",
        "    return temp\r\n",
        "  else:\r\n",
        "    return (temp*a)%p\r\n",
        "\r\n",
        "## modular inverse function (a**-1)%p \r\n",
        "def inverseMod(a, p):\r\n",
        "  return power(a, p - 2, p)\r\n"
      ],
      "execution_count": 2,
      "outputs": []
    },
    {
      "cell_type": "code",
      "metadata": {
        "colab": {
          "base_uri": "https://localhost:8080/"
        },
        "id": "wywnDP_h6Z8G",
        "outputId": "ce565e01-f61b-40f3-a365-9438ef0e9102"
      },
      "source": [
        "## g = (n[0]**x[0])*(n[1]**x[1])*(n[2]**x[2]) % p\r\n",
        "\r\n",
        "g0 = power(n[0],abs(x[0]),p)\r\n",
        "g1 = power(n[1],abs(x[1]),p)\r\n",
        "g2 = power(n[2],abs(x[2]),p)\r\n",
        "\r\n",
        "g = (g1*inverseMod(g0,p)*inverseMod(g2,p))%p\r\n",
        "print(\"g = \",g)"
      ],
      "execution_count": 3,
      "outputs": [
        {
          "output_type": "stream",
          "text": [
            "g =  192847283928500239481729\n"
          ],
          "name": "stdout"
        }
      ]
    },
    {
      "cell_type": "code",
      "metadata": {
        "colab": {
          "base_uri": "https://localhost:8080/"
        },
        "id": "8f53Fnmw8xBW",
        "outputId": "677c050b-0fd1-4055-ad7d-15d44c34d2fe"
      },
      "source": [
        "## password = n[0]/g**a[0] == n[1]/g**a[1] == n[2]/g**a[2]\r\n",
        "\r\n",
        "p1 = (n[0]*inverseMod(power(g,a[0],p),p))%p\r\n",
        "p2 = (n[1]*inverseMod(power(g,a[1],p),p))%p\r\n",
        "p3 = (n[2]*inverseMod(power(g,a[2],p),p))%p\r\n",
        "\r\n",
        "if(p1 == p2 and p2 == p3):\r\n",
        "  print(\"Password is =\", p1)\r\n",
        "else:\r\n",
        "  print(\"Password is incorrect.\")"
      ],
      "execution_count": 4,
      "outputs": [
        {
          "output_type": "stream",
          "text": [
            "Password is = 3608528850368400786036725\n"
          ],
          "name": "stdout"
        }
      ]
    }
  ]
}