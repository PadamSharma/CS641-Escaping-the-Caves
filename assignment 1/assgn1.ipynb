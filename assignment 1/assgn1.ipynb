{
  "nbformat": 4,
  "nbformat_minor": 0,
  "metadata": {
    "colab": {
      "name": "cryptoA1.ipynb",
      "provenance": []
    },
    "kernelspec": {
      "name": "python3",
      "display_name": "Python 3"
    }
  },
  "cells": [
    {
      "cell_type": "markdown",
      "metadata": {
        "id": "ygVtWbobqXFe"
      },
      "source": [
        "## Making text correct"
      ]
    },
    {
      "cell_type": "code",
      "metadata": {
        "colab": {
          "base_uri": "https://localhost:8080/"
        },
        "id": "I6cCTnGqqWVK",
        "outputId": "2697425b-556c-4e58-89cc-23f71281cdaf"
      },
      "source": [
        "code = '''wsam ie pjo ysgtm eyipbya .P axg niphay y, mey syw ahgm ewhrg tw hmysyam wh meyiepjo ys .Ag jygtmeyk pmys ie pjo ysavw kkoyjgsy whmy sy amwh rmephmewagh y!Me yigu ynay utg smew ajya apr ywap awjfkya no a mwmnmw ghiwfeyswhve wieuwr wm aepby oyyhae wtmy uox8 fkpiya. Me y fpaavgs uwa mxSrN03u wd dvwmegnmmey dngmya. Mew awameyt'''\r\n",
        "\r\n",
        "spaces = [i for i, c in enumerate(code) if c == ' ']\r\n",
        "\r\n",
        "shifted_code = code[-11:] + code[:-11]\r\n",
        "shifted_code = shifted_code.replace(' ','')\r\n",
        "\r\n",
        "for i in spaces:\r\n",
        "  shifted_code = shifted_code[:i] + ' ' + shifted_code[i:] \r\n",
        "print(shifted_code)\r\n",
        "\r\n",
        "## After this it look better than orignal so we proceed with this.\r\n"
      ],
      "execution_count": null,
      "outputs": [
        {
          "output_type": "stream",
          "text": [
            "Mewa wa mey twsam iepjoys gt mey ipbya. Pa xgn iph ayy, meysy wa hgmewhr gt whmysyam wh mey iepjoys. Agjy gt mey kpmys iepjoysa vwkk oy jgsy whmysyamwhr meph mewa ghy! Mey iguy nayu tgs mewa jyaapry wa p awjfky anoamwmnmwgh iwfeys wh vewie uwrwma epby oyyh aewtmyu ox 8 fkpiya. Mey fpaavgsu wa mxSrN03uwdd vwmegnm mey dngmya.\n"
          ],
          "name": "stdout"
        }
      ]
    },
    {
      "cell_type": "markdown",
      "metadata": {
        "id": "Usb5nLylrfBo"
      },
      "source": [
        "## Frequency analysis for unigram "
      ]
    },
    {
      "cell_type": "code",
      "metadata": {
        "id": "239PMHVKYfDE"
      },
      "source": [
        "import matplotlib.pyplot as plt\r\n",
        "\r\n",
        "def freqAnalysis(text):\r\n",
        "  freq = {}\r\n",
        "  for i in range(97,123):\r\n",
        "    freq[chr(i)] = 0\r\n",
        "\r\n",
        "  text1 = text.lower()\r\n",
        "  for letter in text1:\r\n",
        "    if(letter.isalpha()):\r\n",
        "      freq[letter] += 1\r\n",
        "\r\n",
        "  keys = freq.keys()\r\n",
        "  values = freq.values()\r\n",
        "  plt.bar(keys, values)\r\n",
        "  \r\n",
        "  return \r\n",
        "\r\n"
      ],
      "execution_count": null,
      "outputs": []
    },
    {
      "cell_type": "code",
      "metadata": {
        "colab": {
          "base_uri": "https://localhost:8080/",
          "height": 265
        },
        "id": "rPQWIvqSrppb",
        "outputId": "6f015859-6dbf-49eb-93bb-569573550ac2"
      },
      "source": [
        "freqAnalysis(shifted_code)"
      ],
      "execution_count": null,
      "outputs": [
        {
          "output_type": "display_data",
          "data": {
            "image/png": "[encoded data removed]",
            "text/plain": [
              "<Figure size 432x288 with 1 Axes>"
            ]
          },
          "metadata": {
            "tags": [],
            "needs_background": "light"
          }
        }
      ]
    },
    {
      "cell_type": "markdown",
      "metadata": {
        "id": "xEAnJDA6rxkK"
      },
      "source": [
        "## Code for checking different substitution"
      ]
    },
    {
      "cell_type": "code",
      "metadata": {
        "id": "3AIJ2_m9p0J-"
      },
      "source": [
        "class bcolors:\r\n",
        "    OKBLUE = '\\033[94m'\r\n",
        "    OKCYAN = '\\033[96m'\r\n",
        "    OKGREEN = '\\033[92m'\r\n",
        "    ENDC = '\\033[0m'\r\n",
        "    BOLD = '\\033[1m'\r\n",
        "    UNDERLINE = '\\033[4m'\r\n",
        "\r\n",
        "def green(x):\r\n",
        "  return bcolors.OKGREEN + x + bcolors.ENDC\r\n",
        "  # return x\r\n",
        "\r\n",
        "def blue(x):\r\n",
        "  return bcolors.OKBLUE + x + bcolors.ENDC\r\n",
        "\r\n",
        "\r\n",
        "def modifiedStr(code,replace_dict):\r\n",
        "  final_string = \"\"\r\n",
        "  for i in code:\r\n",
        "    if i in replace_dict.keys():\r\n",
        "      final_string+=replace_dict[i]\r\n",
        "    else:\r\n",
        "      final_string+=i\r\n",
        "  print(final_string)\r\n",
        "  return\r\n",
        "\r\n",
        "\r\n"
      ],
      "execution_count": null,
      "outputs": []
    },
    {
      "cell_type": "code",
      "metadata": {
        "colab": {
          "base_uri": "https://localhost:8080/"
        },
        "id": "SmXU0Fxbpu8e",
        "outputId": "552656ff-dd81-4b35-dc3e-6d7d1c257123"
      },
      "source": [
        "## Create differnt substitution here\r\n",
        "# use green if u r sure that your substitution is correct else use blue\r\n",
        "replace_dict = {}\r\n",
        "\r\n",
        "replace_dict['y'] = green('e')\r\n",
        "replace_dict['m'] = green('t')\r\n",
        "replace_dict['e'] = green('h')\r\n",
        "replace_dict['a'] = green('s')\r\n",
        "replace_dict['w'] = green('i')\r\n",
        "replace_dict['s'] = green('r')\r\n",
        "replace_dict['t'] = green('f')\r\n",
        "replace_dict['h'] = green('n')\r\n",
        "replace_dict['u'] = green('d')\r\n",
        "replace_dict['g'] = green('o')\r\n",
        "replace_dict['r'] = green('g')\r\n",
        "replace_dict['j'] = green('m')\r\n",
        "replace_dict['p'] = green('a')\r\n",
        "replace_dict['n'] = green('u')\r\n",
        "replace_dict['i'] = green('c')\r\n",
        "replace_dict['o'] = green('b')\r\n",
        "replace_dict['f'] = green('p')\r\n",
        "replace_dict['v'] = green('w')\r\n",
        "replace_dict['d'] = green('q')\r\n",
        "replace_dict['x'] = green('y')\r\n",
        "replace_dict['k'] = green('l')\r\n",
        "replace_dict['b'] = blue('v')\r\n",
        "\r\n",
        "modifiedStr(shifted_code.lower(),replace_dict)"
      ],
      "execution_count": null,
      "outputs": [
        {
          "output_type": "stream",
          "text": [
            "\u001b[92mt\u001b[0m\u001b[92mh\u001b[0m\u001b[92mi\u001b[0m\u001b[92ms\u001b[0m \u001b[92mi\u001b[0m\u001b[92ms\u001b[0m \u001b[92mt\u001b[0m\u001b[92mh\u001b[0m\u001b[92me\u001b[0m \u001b[92mf\u001b[0m\u001b[92mi\u001b[0m\u001b[92mr\u001b[0m\u001b[92ms\u001b[0m\u001b[92mt\u001b[0m \u001b[92mc\u001b[0m\u001b[92mh\u001b[0m\u001b[92ma\u001b[0m\u001b[92mm\u001b[0m\u001b[92mb\u001b[0m\u001b[92me\u001b[0m\u001b[92mr\u001b[0m \u001b[92mo\u001b[0m\u001b[92mf\u001b[0m \u001b[92mt\u001b[0m\u001b[92mh\u001b[0m\u001b[92me\u001b[0m \u001b[92mc\u001b[0m\u001b[92ma\u001b[0m\u001b[94mv\u001b[0m\u001b[92me\u001b[0m\u001b[92ms\u001b[0m. \u001b[92ma\u001b[0m\u001b[92ms\u001b[0m \u001b[92my\u001b[0m\u001b[92mo\u001b[0m\u001b[92mu\u001b[0m \u001b[92mc\u001b[0m\u001b[92ma\u001b[0m\u001b[92mn\u001b[0m \u001b[92ms\u001b[0m\u001b[92me\u001b[0m\u001b[92me\u001b[0m, \u001b[92mt\u001b[0m\u001b[92mh\u001b[0m\u001b[92me\u001b[0m\u001b[92mr\u001b[0m\u001b[92me\u001b[0m \u001b[92mi\u001b[0m\u001b[92ms\u001b[0m \u001b[92mn\u001b[0m\u001b[92mo\u001b[0m\u001b[92mt\u001b[0m\u001b[92mh\u001b[0m\u001b[92mi\u001b[0m\u001b[92mn\u001b[0m\u001b[92mg\u001b[0m \u001b[92mo\u001b[0m\u001b[92mf\u001b[0m \u001b[92mi\u001b[0m\u001b[92mn\u001b[0m\u001b[92mt\u001b[0m\u001b[92me\u001b[0m\u001b[92mr\u001b[0m\u001b[92me\u001b[0m\u001b[92ms\u001b[0m\u001b[92mt\u001b[0m \u001b[92mi\u001b[0m\u001b[92mn\u001b[0m \u001b[92mt\u001b[0m\u001b[92mh\u001b[0m\u001b[92me\u001b[0m \u001b[92mc\u001b[0m\u001b[92mh\u001b[0m\u001b[92ma\u001b[0m\u001b[92mm\u001b[0m\u001b[92mb\u001b[0m\u001b[92me\u001b[0m\u001b[92mr\u001b[0m. \u001b[92ms\u001b[0m\u001b[92mo\u001b[0m\u001b[92mm\u001b[0m\u001b[92me\u001b[0m \u001b[92mo\u001b[0m\u001b[92mf\u001b[0m \u001b[92mt\u001b[0m\u001b[92mh\u001b[0m\u001b[92me\u001b[0m \u001b[92ml\u001b[0m\u001b[92ma\u001b[0m\u001b[92mt\u001b[0m\u001b[92me\u001b[0m\u001b[92mr\u001b[0m \u001b[92mc\u001b[0m\u001b[92mh\u001b[0m\u001b[92ma\u001b[0m\u001b[92mm\u001b[0m\u001b[92mb\u001b[0m\u001b[92me\u001b[0m\u001b[92mr\u001b[0m\u001b[92ms\u001b[0m \u001b[92mw\u001b[0m\u001b[92mi\u001b[0m\u001b[92ml\u001b[0m\u001b[92ml\u001b[0m \u001b[92mb\u001b[0m\u001b[92me\u001b[0m \u001b[92mm\u001b[0m\u001b[92mo\u001b[0m\u001b[92mr\u001b[0m\u001b[92me\u001b[0m \u001b[92mi\u001b[0m\u001b[92mn\u001b[0m\u001b[92mt\u001b[0m\u001b[92me\u001b[0m\u001b[92mr\u001b[0m\u001b[92me\u001b[0m\u001b[92ms\u001b[0m\u001b[92mt\u001b[0m\u001b[92mi\u001b[0m\u001b[92mn\u001b[0m\u001b[92mg\u001b[0m \u001b[92mt\u001b[0m\u001b[92mh\u001b[0m\u001b[92ma\u001b[0m\u001b[92mn\u001b[0m \u001b[92mt\u001b[0m\u001b[92mh\u001b[0m\u001b[92mi\u001b[0m\u001b[92ms\u001b[0m \u001b[92mo\u001b[0m\u001b[92mn\u001b[0m\u001b[92me\u001b[0m! \u001b[92mt\u001b[0m\u001b[92mh\u001b[0m\u001b[92me\u001b[0m \u001b[92mc\u001b[0m\u001b[92mo\u001b[0m\u001b[92md\u001b[0m\u001b[92me\u001b[0m \u001b[92mu\u001b[0m\u001b[92ms\u001b[0m\u001b[92me\u001b[0m\u001b[92md\u001b[0m \u001b[92mf\u001b[0m\u001b[92mo\u001b[0m\u001b[92mr\u001b[0m \u001b[92mt\u001b[0m\u001b[92mh\u001b[0m\u001b[92mi\u001b[0m\u001b[92ms\u001b[0m \u001b[92mm\u001b[0m\u001b[92me\u001b[0m\u001b[92ms\u001b[0m\u001b[92ms\u001b[0m\u001b[92ma\u001b[0m\u001b[92mg\u001b[0m\u001b[92me\u001b[0m \u001b[92mi\u001b[0m\u001b[92ms\u001b[0m \u001b[92ma\u001b[0m \u001b[92ms\u001b[0m\u001b[92mi\u001b[0m\u001b[92mm\u001b[0m\u001b[92mp\u001b[0m\u001b[92ml\u001b[0m\u001b[92me\u001b[0m \u001b[92ms\u001b[0m\u001b[92mu\u001b[0m\u001b[92mb\u001b[0m\u001b[92ms\u001b[0m\u001b[92mt\u001b[0m\u001b[92mi\u001b[0m\u001b[92mt\u001b[0m\u001b[92mu\u001b[0m\u001b[92mt\u001b[0m\u001b[92mi\u001b[0m\u001b[92mo\u001b[0m\u001b[92mn\u001b[0m \u001b[92mc\u001b[0m\u001b[92mi\u001b[0m\u001b[92mp\u001b[0m\u001b[92mh\u001b[0m\u001b[92me\u001b[0m\u001b[92mr\u001b[0m \u001b[92mi\u001b[0m\u001b[92mn\u001b[0m \u001b[92mw\u001b[0m\u001b[92mh\u001b[0m\u001b[92mi\u001b[0m\u001b[92mc\u001b[0m\u001b[92mh\u001b[0m \u001b[92md\u001b[0m\u001b[92mi\u001b[0m\u001b[92mg\u001b[0m\u001b[92mi\u001b[0m\u001b[92mt\u001b[0m\u001b[92ms\u001b[0m \u001b[92mh\u001b[0m\u001b[92ma\u001b[0m\u001b[94mv\u001b[0m\u001b[92me\u001b[0m \u001b[92mb\u001b[0m\u001b[92me\u001b[0m\u001b[92me\u001b[0m\u001b[92mn\u001b[0m \u001b[92ms\u001b[0m\u001b[92mh\u001b[0m\u001b[92mi\u001b[0m\u001b[92mf\u001b[0m\u001b[92mt\u001b[0m\u001b[92me\u001b[0m\u001b[92md\u001b[0m \u001b[92mb\u001b[0m\u001b[92my\u001b[0m 8 \u001b[92mp\u001b[0m\u001b[92ml\u001b[0m\u001b[92ma\u001b[0m\u001b[92mc\u001b[0m\u001b[92me\u001b[0m\u001b[92ms\u001b[0m. \u001b[92mt\u001b[0m\u001b[92mh\u001b[0m\u001b[92me\u001b[0m \u001b[92mp\u001b[0m\u001b[92ma\u001b[0m\u001b[92ms\u001b[0m\u001b[92ms\u001b[0m\u001b[92mw\u001b[0m\u001b[92mo\u001b[0m\u001b[92mr\u001b[0m\u001b[92md\u001b[0m \u001b[92mi\u001b[0m\u001b[92ms\u001b[0m \u001b[92mt\u001b[0m\u001b[92my\u001b[0m\u001b[92mr\u001b[0m\u001b[92mg\u001b[0m\u001b[92mu\u001b[0m03\u001b[92md\u001b[0m\u001b[92mi\u001b[0m\u001b[92mq\u001b[0m\u001b[92mq\u001b[0m \u001b[92mw\u001b[0m\u001b[92mi\u001b[0m\u001b[92mt\u001b[0m\u001b[92mh\u001b[0m\u001b[92mo\u001b[0m\u001b[92mu\u001b[0m\u001b[92mt\u001b[0m \u001b[92mt\u001b[0m\u001b[92mh\u001b[0m\u001b[92me\u001b[0m \u001b[92mq\u001b[0m\u001b[92mu\u001b[0m\u001b[92mo\u001b[0m\u001b[92mt\u001b[0m\u001b[92me\u001b[0m\u001b[92ms\u001b[0m.\n"
          ],
          "name": "stdout"
        }
      ]
    },
    {
      "cell_type": "code",
      "metadata": {
        "colab": {
          "base_uri": "https://localhost:8080/"
        },
        "id": "XaYvC5Xl0-24",
        "outputId": "f14b4334-1626-4ef4-c0d6-cabe3925c22c"
      },
      "source": [
        "print(replace_dict.keys())\r\n",
        "print([ x.replace('\\x1b[92m','').replace('\\x1b[0m','').replace('\\x1b[94m','') for x in replace_dict.values()])"
      ],
      "execution_count": null,
      "outputs": [
        {
          "output_type": "stream",
          "text": [
            "dict_keys(['y', 'm', 'e', 'a', 'w', 's', 't', 'h', 'u', 'g', 'r', 'j', 'p', 'n', 'i', 'o', 'f', 'v', 'd', 'x', 'k', 'b'])\n",
            "['e', 't', 'h', 's', 'i', 'r', 'f', 'n', 'd', 'o', 'g', 'm', 'a', 'u', 'c', 'b', 'p', 'w', 'q', 'y', 'l', 'v']\n"
          ],
          "name": "stdout"
        }
      ]
    }
  ]
}